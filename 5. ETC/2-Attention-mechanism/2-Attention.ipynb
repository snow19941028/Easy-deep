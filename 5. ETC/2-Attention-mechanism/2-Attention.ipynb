{
 "cells": [
  {
   "cell_type": "markdown",
   "metadata": {},
   "source": [
    "# Attention in Neural Networks\n",
    "- The idea of attention is straightforward; choose a specific area of interest to \"attend\" when classifying\n",
    "- Widely applied in neural machine translation, image captioning, speech recognition, etc.\n",
    "- source code here is mostly derived from below \n",
    "    - https://github.com/philipperemy/keras-attention-mechanism\n",
    "<br>\n",
    "<img src=\"https://ai2-s2-public.s3.amazonaws.com/figures/2016-11-08/060e380b28be29b7eda509981a50b4406ea6b21b/3-Figure2-1.png\" style=\"width: 500px\"/>\n",
    "\n",
    "Attention can be regarded as \"alignment\" in machine translation context\n",
    "</br>\n",
    "    \n",
    "    \n",
    "<br>\n",
    "<img src=\"https://cdn-images-1.medium.com/max/2000/1*ribYYJAU7EPdZtHFr0NDHw.png\" style=\"width: 700px\"/>\n",
    "\n",
    "Visualizing attention in image captioning process\n",
    "</br>"
   ]
  },
  {
   "cell_type": "markdown",
   "metadata": {},
   "source": [
    "### Load Dataset\n",
    "- Digits dataset in sklearn\n",
    "- http://scikit-learn.org/stable/modules/generated/sklearn.datasets.load_digits.html"
   ]
  },
  {
   "cell_type": "code",
   "execution_count": 16,
   "metadata": {},
   "outputs": [],
   "source": [
    "import numpy as np\n",
    "import matplotlib.pyplot as plt\n",
    "\n",
    "from sklearn import datasets\n",
    "from sklearn.model_selection import train_test_split\n",
    "\n",
    "from keras.models import Sequential, Model\n",
    "from keras.layers import Input, concatenate, multiply, Dense, Permute, Reshape, LSTM, Activation\n",
    "from keras import optimizers\n",
    "from keras.utils.np_utils import to_categorical\n",
    "from keras.utils.vis_utils import model_to_dot\n",
    "import keras.backend as K\n",
    "\n",
    "from IPython.display import SVG"
   ]
  },
  {
   "cell_type": "code",
   "execution_count": 3,
   "metadata": {
    "collapsed": true
   },
   "outputs": [],
   "source": [
    "data = datasets.load_digits()"
   ]
  },
  {
   "cell_type": "code",
   "execution_count": 87,
   "metadata": {
    "collapsed": true
   },
   "outputs": [],
   "source": [
    "X_data = data.images\n",
    "y_data = data.target"
   ]
  },
  {
   "cell_type": "code",
   "execution_count": 88,
   "metadata": {
    "collapsed": true
   },
   "outputs": [],
   "source": [
    "X_data = X_data.reshape(X_data.shape[0], 64)\n",
    "y_data = to_categorical(y_data)"
   ]
  },
  {
   "cell_type": "code",
   "execution_count": 89,
   "metadata": {},
   "outputs": [],
   "source": [
    "X_train, X_test, y_train, y_test = train_test_split(X_data, y_data, test_size = 0.2, random_state = 777)"
   ]
  },
  {
   "cell_type": "code",
   "execution_count": 90,
   "metadata": {},
   "outputs": [
    {
     "name": "stdout",
     "output_type": "stream",
     "text": [
      "(1437, 64)\n",
      "(360, 64)\n",
      "(1437, 10)\n",
      "(360, 10)\n"
     ]
    }
   ],
   "source": [
    "print(X_train.shape)\n",
    "print(X_test.shape)\n",
    "print(y_train.shape)\n",
    "print(y_test.shape)"
   ]
  },
  {
   "cell_type": "markdown",
   "metadata": {},
   "source": [
    "## Attention with MLP"
   ]
  },
  {
   "cell_type": "code",
   "execution_count": 91,
   "metadata": {
    "collapsed": true
   },
   "outputs": [],
   "source": [
    "def attention_mlp():\n",
    "    input_layer = Input(shape = (X_train.shape[1],))\n",
    "    attention_probs = Dense(X_train.shape[1], activation = 'softmax', name='attention_vec')(input_layer)    # attention vector is achieved here\n",
    "    attention_mul = multiply([input_layer, attention_probs], name='attention_mul')\n",
    "    \n",
    "    attention_mul = Dense(50)(attention_mul)\n",
    "    output_layer = Dense(10, activation = 'softmax')(attention_mul)\n",
    "    \n",
    "    model = Model(inputs = [input_layer], outputs = output_layer)\n",
    "    adam = optimizers.Adam(lr = 0.001)\n",
    "    model.compile(loss = 'categorical_crossentropy', optimizer = adam, metrics = ['accuracy'])\n",
    "    return model"
   ]
  },
  {
   "cell_type": "code",
   "execution_count": 92,
   "metadata": {
    "collapsed": true
   },
   "outputs": [],
   "source": [
    "model = attention_mlp()"
   ]
  },
  {
   "cell_type": "code",
   "execution_count": 93,
   "metadata": {},
   "outputs": [
    {
     "name": "stdout",
     "output_type": "stream",
     "text": [
      "____________________________________________________________________________________________________\n",
      "Layer (type)                     Output Shape          Param #     Connected to                     \n",
      "====================================================================================================\n",
      "input_5 (InputLayer)             (None, 64)            0                                            \n",
      "____________________________________________________________________________________________________\n",
      "attention_vec (Dense)            (None, 64)            4160        input_5[0][0]                    \n",
      "____________________________________________________________________________________________________\n",
      "attention_mul (Multiply)         (None, 64)            0           input_5[0][0]                    \n",
      "                                                                   attention_vec[0][0]              \n",
      "____________________________________________________________________________________________________\n",
      "dense_9 (Dense)                  (None, 50)            3250        attention_mul[0][0]              \n",
      "____________________________________________________________________________________________________\n",
      "dense_10 (Dense)                 (None, 10)            510         dense_9[0][0]                    \n",
      "====================================================================================================\n",
      "Total params: 7,920\n",
      "Trainable params: 7,920\n",
      "Non-trainable params: 0\n",
      "____________________________________________________________________________________________________\n"
     ]
    }
   ],
   "source": [
    "model.summary()"
   ]
  },
  {
   "cell_type": "code",
   "execution_count": 94,
   "metadata": {},
   "outputs": [
    {
     "data": {
      "image/svg+xml": [
       "<svg height=\"337pt\" viewBox=\"0.00 0.00 193.00 337.00\" width=\"193pt\" xmlns=\"http://www.w3.org/2000/svg\" xmlns:xlink=\"http://www.w3.org/1999/xlink\">\n",
       "<g class=\"graph\" id=\"graph0\" transform=\"scale(1 1) rotate(0) translate(4 333)\">\n",
       "<title>G</title>\n",
       "<polygon fill=\"white\" points=\"-4,4 -4,-333 189,-333 189,4 -4,4\" stroke=\"none\"/>\n",
       "<!-- 2166470488976 -->\n",
       "<g class=\"node\" id=\"node1\"><title>2166470488976</title>\n",
       "<polygon fill=\"none\" points=\"50,-292.5 50,-328.5 176,-328.5 176,-292.5 50,-292.5\" stroke=\"black\"/>\n",
       "<text font-family=\"Times New Roman,serif\" font-size=\"14.00\" text-anchor=\"middle\" x=\"113\" y=\"-306.8\">input_5: InputLayer</text>\n",
       "</g>\n",
       "<!-- 2166475681296 -->\n",
       "<g class=\"node\" id=\"node2\"><title>2166475681296</title>\n",
       "<polygon fill=\"none\" points=\"0,-219.5 0,-255.5 132,-255.5 132,-219.5 0,-219.5\" stroke=\"black\"/>\n",
       "<text font-family=\"Times New Roman,serif\" font-size=\"14.00\" text-anchor=\"middle\" x=\"66\" y=\"-233.8\">attention_vec: Dense</text>\n",
       "</g>\n",
       "<!-- 2166470488976&#45;&gt;2166475681296 -->\n",
       "<g class=\"edge\" id=\"edge1\"><title>2166470488976-&gt;2166475681296</title>\n",
       "<path d=\"M101.623,-292.313C96.0227,-283.853 89.1581,-273.484 82.9547,-264.112\" fill=\"none\" stroke=\"black\"/>\n",
       "<polygon fill=\"black\" points=\"85.711,-261.935 77.2726,-255.529 79.874,-265.799 85.711,-261.935\" stroke=\"black\"/>\n",
       "</g>\n",
       "<!-- 2166470089360 -->\n",
       "<g class=\"node\" id=\"node3\"><title>2166470089360</title>\n",
       "<polygon fill=\"none\" points=\"41,-146.5 41,-182.5 185,-182.5 185,-146.5 41,-146.5\" stroke=\"black\"/>\n",
       "<text font-family=\"Times New Roman,serif\" font-size=\"14.00\" text-anchor=\"middle\" x=\"113\" y=\"-160.8\">attention_mul: Multiply</text>\n",
       "</g>\n",
       "<!-- 2166470488976&#45;&gt;2166470089360 -->\n",
       "<g class=\"edge\" id=\"edge2\"><title>2166470488976-&gt;2166470089360</title>\n",
       "<path d=\"M124.888,-292.046C131.014,-281.988 137.846,-268.827 141,-256 144.926,-240.031 144.926,-234.969 141,-219 138.709,-209.68 134.475,-200.185 129.982,-191.83\" fill=\"none\" stroke=\"black\"/>\n",
       "<polygon fill=\"black\" points=\"132.901,-189.885 124.888,-182.954 126.83,-193.369 132.901,-189.885\" stroke=\"black\"/>\n",
       "</g>\n",
       "<!-- 2166475681296&#45;&gt;2166470089360 -->\n",
       "<g class=\"edge\" id=\"edge3\"><title>2166475681296-&gt;2166470089360</title>\n",
       "<path d=\"M77.3774,-219.313C82.9773,-210.853 89.8419,-200.484 96.0453,-191.112\" fill=\"none\" stroke=\"black\"/>\n",
       "<polygon fill=\"black\" points=\"99.126,-192.799 101.727,-182.529 93.289,-188.935 99.126,-192.799\" stroke=\"black\"/>\n",
       "</g>\n",
       "<!-- 2166470519888 -->\n",
       "<g class=\"node\" id=\"node4\"><title>2166470519888</title>\n",
       "<polygon fill=\"none\" points=\"61,-73.5 61,-109.5 165,-109.5 165,-73.5 61,-73.5\" stroke=\"black\"/>\n",
       "<text font-family=\"Times New Roman,serif\" font-size=\"14.00\" text-anchor=\"middle\" x=\"113\" y=\"-87.8\">dense_9: Dense</text>\n",
       "</g>\n",
       "<!-- 2166470089360&#45;&gt;2166470519888 -->\n",
       "<g class=\"edge\" id=\"edge4\"><title>2166470089360-&gt;2166470519888</title>\n",
       "<path d=\"M113,-146.313C113,-138.289 113,-128.547 113,-119.569\" fill=\"none\" stroke=\"black\"/>\n",
       "<polygon fill=\"black\" points=\"116.5,-119.529 113,-109.529 109.5,-119.529 116.5,-119.529\" stroke=\"black\"/>\n",
       "</g>\n",
       "<!-- 2166470489424 -->\n",
       "<g class=\"node\" id=\"node5\"><title>2166470489424</title>\n",
       "<polygon fill=\"none\" points=\"57.5,-0.5 57.5,-36.5 168.5,-36.5 168.5,-0.5 57.5,-0.5\" stroke=\"black\"/>\n",
       "<text font-family=\"Times New Roman,serif\" font-size=\"14.00\" text-anchor=\"middle\" x=\"113\" y=\"-14.8\">dense_10: Dense</text>\n",
       "</g>\n",
       "<!-- 2166470519888&#45;&gt;2166470489424 -->\n",
       "<g class=\"edge\" id=\"edge5\"><title>2166470519888-&gt;2166470489424</title>\n",
       "<path d=\"M113,-73.3129C113,-65.2895 113,-55.5475 113,-46.5691\" fill=\"none\" stroke=\"black\"/>\n",
       "<polygon fill=\"black\" points=\"116.5,-46.5288 113,-36.5288 109.5,-46.5289 116.5,-46.5288\" stroke=\"black\"/>\n",
       "</g>\n",
       "</g>\n",
       "</svg>"
      ],
      "text/plain": [
       "<IPython.core.display.SVG object>"
      ]
     },
     "execution_count": 94,
     "metadata": {},
     "output_type": "execute_result"
    }
   ],
   "source": [
    "# In other words, attention mechanism can be explained as multiplying input nodes and softmax probabilities of each node elementwise\n",
    "SVG(model_to_dot(model).create(prog='dot', format='svg'))"
   ]
  },
  {
   "cell_type": "code",
   "execution_count": 95,
   "metadata": {
    "scrolled": true
   },
   "outputs": [
    {
     "data": {
      "text/plain": [
       "<keras.callbacks.History at 0x1f86b8a8d68>"
      ]
     },
     "execution_count": 95,
     "metadata": {},
     "output_type": "execute_result"
    }
   ],
   "source": [
    "model.fit([X_train], y_train, epochs = 50, batch_size = 50, verbose = 0)"
   ]
  },
  {
   "cell_type": "code",
   "execution_count": 14,
   "metadata": {
    "collapsed": true
   },
   "outputs": [],
   "source": [
    "# function to obtain activation of each layer\n",
    "def get_activations(model, inputs, print_shape_only=False, layer_name=None):\n",
    "    # Documentation is available online on Github at the address below.\n",
    "    # From: https://github.com/philipperemy/keras-visualize-activations\n",
    "    print('----- activations -----')\n",
    "    activations = []\n",
    "    inp = model.input\n",
    "    if layer_name is None:\n",
    "        outputs = [layer.output for layer in model.layers]\n",
    "    else:\n",
    "        outputs = [layer.output for layer in model.layers if layer.name == layer_name]  # all layer outputs\n",
    "    funcs = [K.function([inp] + [K.learning_phase()], [out]) for out in outputs]  # evaluation functions\n",
    "    layer_outputs = [func([inputs, 1.])[0] for func in funcs]\n",
    "    for layer_activations in layer_outputs:\n",
    "        activations.append(layer_activations)\n",
    "        if print_shape_only:\n",
    "            print(layer_activations.shape)\n",
    "        else:\n",
    "            print(layer_activations)\n",
    "    return activations"
   ]
  },
  {
   "cell_type": "code",
   "execution_count": 49,
   "metadata": {},
   "outputs": [
    {
     "name": "stdout",
     "output_type": "stream",
     "text": [
      "----- activations -----\n",
      "(1, 64)\n",
      "(1, 64)\n",
      "(1, 64)\n",
      "(1, 50)\n",
      "(1, 10)\n"
     ]
    }
   ],
   "source": [
    "attention_vector = get_activations(model,[X_train[0]], print_shape_only =True)[0]"
   ]
  },
  {
   "cell_type": "code",
   "execution_count": 50,
   "metadata": {},
   "outputs": [
    {
     "data": {
      "image/png": "[encoded data removed]",
      "text/plain": [
       "<matplotlib.figure.Figure at 0x1f85add51d0>"
      ]
     },
     "metadata": {},
     "output_type": "display_data"
    },
    {
     "name": "stdout",
     "output_type": "stream",
     "text": [
      "label:  0\n"
     ]
    }
   ],
   "source": [
    "plt.imshow(data.images[0])    # show first number in the dataset\n",
    "plt.show()\n",
    "print('label: ', data.target[0])    # label = '0'"
   ]
  },
  {
   "cell_type": "code",
   "execution_count": 53,
   "metadata": {},
   "outputs": [
    {
     "data": {
      "image/png": "[encoded data removed]",
      "text/plain": [
       "<matplotlib.figure.Figure at 0x1f861f7ab38>"
      ]
     },
     "metadata": {},
     "output_type": "display_data"
    }
   ],
   "source": [
    "attention_vector = attention_vector.reshape(8,8)\n",
    "plt.imshow(attention_vector)\n",
    "plt.show()"
   ]
  },
  {
   "cell_type": "code",
   "execution_count": 24,
   "metadata": {},
   "outputs": [],
   "source": [
    "X7 = []\n",
    "for i in range(len(X_train)):\n",
    "    if y_train[i][7] == 1:\n",
    "        X7.append(X_train[i])\n",
    "X7 = np.array(X7)"
   ]
  },
  {
   "cell_type": "code",
   "execution_count": 27,
   "metadata": {},
   "outputs": [
    {
     "name": "stdout",
     "output_type": "stream",
     "text": [
      "(140, 64)\n"
     ]
    }
   ],
   "source": [
    "print(X7.shape)"
   ]
  },
  {
   "cell_type": "code",
   "execution_count": 56,
   "metadata": {},
   "outputs": [
    {
     "name": "stdout",
     "output_type": "stream",
     "text": [
      "----- activations -----\n",
      "(140, 64)\n",
      "(140, 64)\n",
      "(140, 64)\n",
      "(140, 50)\n",
      "(140, 10)\n",
      "(140, 64)\n"
     ]
    }
   ],
   "source": [
    "attention_vector = get_activations(model, X7, print_shape_only =True)[0]"
   ]
  },
  {
   "cell_type": "code",
   "execution_count": 57,
   "metadata": {},
   "outputs": [
    {
     "data": {
      "text/plain": [
       "(8, 8)"
      ]
     },
     "execution_count": 57,
     "metadata": {},
     "output_type": "execute_result"
    }
   ],
   "source": [
    "attention_vector = np.mean(attention_vector, axis = 0).reshape(8, 8)"
   ]
  },
  {
   "cell_type": "code",
   "execution_count": 58,
   "metadata": {},
   "outputs": [
    {
     "data": {
      "image/png": "[encoded data removed]",
      "text/plain": [
       "<matplotlib.figure.Figure at 0x1f861f6a3c8>"
      ]
     },
     "metadata": {},
     "output_type": "display_data"
    }
   ],
   "source": [
    "plt.imshow(attention_vector)\n",
    "plt.show()"
   ]
  },
  {
   "cell_type": "markdown",
   "metadata": {},
   "source": [
    "As expected, we could get a \"vague\" shape of \"7\" from our attention vector. This is where the model \"attend to\" when classifying the number 7."
   ]
  },
  {
   "cell_type": "code",
   "execution_count": 24,
   "metadata": {
    "collapsed": true
   },
   "outputs": [],
   "source": [
    "%matplotlib inline\n",
    "import matplotlib.pyplot as plt\n",
    "import pandas as pd"
   ]
  },
  {
   "cell_type": "code",
   "execution_count": 26,
   "metadata": {},
   "outputs": [
    {
     "data": {
      "text/plain": [
       "<matplotlib.axes._subplots.AxesSubplot at 0x2227297ccc0>"
      ]
     },
     "execution_count": 26,
     "metadata": {},
     "output_type": "execute_result"
    },
    {
     "data": {
      "image/png": "[encoded data removed]",
      "text/plain": [
       "<matplotlib.figure.Figure at 0x22272981be0>"
      ]
     },
     "metadata": {},
     "output_type": "display_data"
    }
   ],
   "source": [
    "# visualizing activations in attention layer\n",
    "pd.DataFrame(attention_vector.flatten(), columns=['attention (%)']).plot(kind='bar',title='Attention Mechanism as a function of input dimensions.')"
   ]
  },
  {
   "cell_type": "markdown",
   "metadata": {},
   "source": [
    "## Attention with LSTM\n",
    "\n",
    "<img src=\"https://github.com/philipperemy/keras-attention-mechanism/blob/master/assets/graph_multi_attention.png?raw=true\" style=\"width: 400px\"/>"
   ]
  },
  {
   "cell_type": "code",
   "execution_count": 60,
   "metadata": {
    "collapsed": true
   },
   "outputs": [],
   "source": [
    "# reshape data into original 3-D shape\n",
    "X_data = X_data.reshape(X_data.shape[0], 8, 8)"
   ]
  },
  {
   "cell_type": "code",
   "execution_count": 61,
   "metadata": {
    "collapsed": true
   },
   "outputs": [],
   "source": [
    "X_train, X_test, y_train, y_test = train_test_split(X_data, y_data, test_size = 0.2, random_state = 777)"
   ]
  },
  {
   "cell_type": "code",
   "execution_count": 62,
   "metadata": {},
   "outputs": [
    {
     "name": "stdout",
     "output_type": "stream",
     "text": [
      "(1437, 8, 8)\n",
      "(360, 8, 8)\n",
      "(1437, 10)\n",
      "(360, 10)\n"
     ]
    }
   ],
   "source": [
    "print(X_train.shape)\n",
    "print(X_test.shape)\n",
    "print(y_train.shape)\n",
    "print(y_test.shape)"
   ]
  },
  {
   "cell_type": "code",
   "execution_count": 63,
   "metadata": {
    "collapsed": true
   },
   "outputs": [],
   "source": [
    "INPUT_DIM = X_train.shape[2]\n",
    "TIME_STEPS = X_train.shape[1]\n",
    "\n",
    "# if True, the attention vector is shared across the input_dimensions where the attention is applied.\n",
    "SINGLE_ATTENTION_VECTOR = False"
   ]
  },
  {
   "cell_type": "code",
   "execution_count": 64,
   "metadata": {
    "collapsed": true
   },
   "outputs": [],
   "source": [
    "def attention_3d_block(inputs):\n",
    "    # inputs.shape = (batch_size, time_steps, input_dim)\n",
    "    input_dim = int(inputs.shape[2])\n",
    "    a = Permute((2, 1))(inputs)\n",
    "    a = Reshape((input_dim, TIME_STEPS))(a) # this line is not useful. It's just to know which dimension is what.\n",
    "    a = Dense(TIME_STEPS, activation='softmax')(a)\n",
    "    if SINGLE_ATTENTION_VECTOR:\n",
    "        a = Lambda(lambda x: K.mean(x, axis=1), name='dim_reduction')(a)\n",
    "        a = RepeatVector(input_dim)(a)\n",
    "    a_probs = Permute((2, 1), name='attention_vec')(a)\n",
    "    output_attention_mul = multiply([inputs, a_probs], name='attention_mul')\n",
    "    return output_attention_mul"
   ]
  },
  {
   "cell_type": "code",
   "execution_count": 65,
   "metadata": {
    "collapsed": true
   },
   "outputs": [],
   "source": [
    "def attention_lstm():\n",
    "    inputs = Input(shape=(TIME_STEPS, INPUT_DIM,))\n",
    "    attention_mul = attention_3d_block(inputs)\n",
    "    lstm_units = 32\n",
    "    attention_mul = LSTM(lstm_units, return_sequences=False)(attention_mul)\n",
    "    output = Dense(10, activation='softmax')(attention_mul)\n",
    "    model = Model(inputs=[inputs], outputs=output)\n",
    "    \n",
    "    model.compile(optimizer='adam', loss='categorical_crossentropy', metrics=['accuracy'])\n",
    "    \n",
    "    return model"
   ]
  },
  {
   "cell_type": "code",
   "execution_count": 72,
   "metadata": {
    "collapsed": true
   },
   "outputs": [],
   "source": [
    "model = attention_lstm()"
   ]
  },
  {
   "cell_type": "code",
   "execution_count": 73,
   "metadata": {
    "scrolled": true
   },
   "outputs": [
    {
     "data": {
      "image/svg+xml": [
       "<svg height=\"556pt\" viewBox=\"0.00 0.00 201.50 556.00\" width=\"202pt\" xmlns=\"http://www.w3.org/2000/svg\" xmlns:xlink=\"http://www.w3.org/1999/xlink\">\n",
       "<g class=\"graph\" id=\"graph0\" transform=\"scale(1 1) rotate(0) translate(4 552)\">\n",
       "<title>G</title>\n",
       "<polygon fill=\"white\" points=\"-4,4 -4,-552 197.5,-552 197.5,4 -4,4\" stroke=\"none\"/>\n",
       "<!-- 2166425120328 -->\n",
       "<g class=\"node\" id=\"node1\"><title>2166425120328</title>\n",
       "<polygon fill=\"none\" points=\"65.5,-511.5 65.5,-547.5 191.5,-547.5 191.5,-511.5 65.5,-511.5\" stroke=\"black\"/>\n",
       "<text font-family=\"Times New Roman,serif\" font-size=\"14.00\" text-anchor=\"middle\" x=\"128.5\" y=\"-525.8\">input_3: InputLayer</text>\n",
       "</g>\n",
       "<!-- 2166371992520 -->\n",
       "<g class=\"node\" id=\"node2\"><title>2166371992520</title>\n",
       "<polygon fill=\"none\" points=\"14.5,-438.5 14.5,-474.5 142.5,-474.5 142.5,-438.5 14.5,-438.5\" stroke=\"black\"/>\n",
       "<text font-family=\"Times New Roman,serif\" font-size=\"14.00\" text-anchor=\"middle\" x=\"78.5\" y=\"-452.8\">permute_2: Permute</text>\n",
       "</g>\n",
       "<!-- 2166425120328&#45;&gt;2166371992520 -->\n",
       "<g class=\"edge\" id=\"edge1\"><title>2166425120328-&gt;2166371992520</title>\n",
       "<path d=\"M116.396,-511.313C110.378,-502.766 102.986,-492.269 96.3331,-482.823\" fill=\"none\" stroke=\"black\"/>\n",
       "<polygon fill=\"black\" points=\"99.1116,-480.69 90.4921,-474.529 93.3883,-484.72 99.1116,-480.69\" stroke=\"black\"/>\n",
       "</g>\n",
       "<!-- 2166427113512 -->\n",
       "<g class=\"node\" id=\"node6\"><title>2166427113512</title>\n",
       "<polygon fill=\"none\" points=\"49.5,-146.5 49.5,-182.5 193.5,-182.5 193.5,-146.5 49.5,-146.5\" stroke=\"black\"/>\n",
       "<text font-family=\"Times New Roman,serif\" font-size=\"14.00\" text-anchor=\"middle\" x=\"121.5\" y=\"-160.8\">attention_mul: Multiply</text>\n",
       "</g>\n",
       "<!-- 2166425120328&#45;&gt;2166427113512 -->\n",
       "<g class=\"edge\" id=\"edge5\"><title>2166425120328-&gt;2166427113512</title>\n",
       "<path d=\"M137.202,-511.263C149.766,-484.735 171.5,-431.985 171.5,-384.5 171.5,-384.5 171.5,-384.5 171.5,-309.5 171.5,-268.307 166.176,-257.49 151.5,-219 147.934,-209.647 142.942,-199.949 138.052,-191.421\" fill=\"none\" stroke=\"black\"/>\n",
       "<polygon fill=\"black\" points=\"140.981,-189.5 132.858,-182.698 134.966,-193.081 140.981,-189.5\" stroke=\"black\"/>\n",
       "</g>\n",
       "<!-- 2166371716512 -->\n",
       "<g class=\"node\" id=\"node3\"><title>2166371716512</title>\n",
       "<polygon fill=\"none\" points=\"10.5,-365.5 10.5,-401.5 138.5,-401.5 138.5,-365.5 10.5,-365.5\" stroke=\"black\"/>\n",
       "<text font-family=\"Times New Roman,serif\" font-size=\"14.00\" text-anchor=\"middle\" x=\"74.5\" y=\"-379.8\">reshape_2: Reshape</text>\n",
       "</g>\n",
       "<!-- 2166371992520&#45;&gt;2166371716512 -->\n",
       "<g class=\"edge\" id=\"edge2\"><title>2166371992520-&gt;2166371716512</title>\n",
       "<path d=\"M77.5317,-438.313C77.0797,-430.289 76.5308,-420.547 76.025,-411.569\" fill=\"none\" stroke=\"black\"/>\n",
       "<polygon fill=\"black\" points=\"79.5164,-411.316 75.4594,-401.529 72.5275,-411.71 79.5164,-411.316\" stroke=\"black\"/>\n",
       "</g>\n",
       "<!-- 2166372037632 -->\n",
       "<g class=\"node\" id=\"node4\"><title>2166372037632</title>\n",
       "<polygon fill=\"none\" points=\"20.5,-292.5 20.5,-328.5 124.5,-328.5 124.5,-292.5 20.5,-292.5\" stroke=\"black\"/>\n",
       "<text font-family=\"Times New Roman,serif\" font-size=\"14.00\" text-anchor=\"middle\" x=\"72.5\" y=\"-306.8\">dense_5: Dense</text>\n",
       "</g>\n",
       "<!-- 2166371716512&#45;&gt;2166372037632 -->\n",
       "<g class=\"edge\" id=\"edge3\"><title>2166371716512-&gt;2166372037632</title>\n",
       "<path d=\"M74.0159,-365.313C73.7898,-357.289 73.5154,-347.547 73.2625,-338.569\" fill=\"none\" stroke=\"black\"/>\n",
       "<polygon fill=\"black\" points=\"76.76,-338.426 72.9797,-328.529 69.7627,-338.623 76.76,-338.426\" stroke=\"black\"/>\n",
       "</g>\n",
       "<!-- 2166435982360 -->\n",
       "<g class=\"node\" id=\"node5\"><title>2166435982360</title>\n",
       "<polygon fill=\"none\" points=\"0,-219.5 0,-255.5 143,-255.5 143,-219.5 0,-219.5\" stroke=\"black\"/>\n",
       "<text font-family=\"Times New Roman,serif\" font-size=\"14.00\" text-anchor=\"middle\" x=\"71.5\" y=\"-233.8\">attention_vec: Permute</text>\n",
       "</g>\n",
       "<!-- 2166372037632&#45;&gt;2166435982360 -->\n",
       "<g class=\"edge\" id=\"edge4\"><title>2166372037632-&gt;2166435982360</title>\n",
       "<path d=\"M72.2579,-292.313C72.1449,-284.289 72.0077,-274.547 71.8813,-265.569\" fill=\"none\" stroke=\"black\"/>\n",
       "<polygon fill=\"black\" points=\"75.3804,-265.479 71.7398,-255.529 68.3811,-265.577 75.3804,-265.479\" stroke=\"black\"/>\n",
       "</g>\n",
       "<!-- 2166435982360&#45;&gt;2166427113512 -->\n",
       "<g class=\"edge\" id=\"edge6\"><title>2166435982360-&gt;2166427113512</title>\n",
       "<path d=\"M83.6036,-219.313C89.6224,-210.766 97.0144,-200.269 103.667,-190.823\" fill=\"none\" stroke=\"black\"/>\n",
       "<polygon fill=\"black\" points=\"106.612,-192.72 109.508,-182.529 100.888,-188.69 106.612,-192.72\" stroke=\"black\"/>\n",
       "</g>\n",
       "<!-- 2166427115416 -->\n",
       "<g class=\"node\" id=\"node7\"><title>2166427115416</title>\n",
       "<polygon fill=\"none\" points=\"72.5,-73.5 72.5,-109.5 170.5,-109.5 170.5,-73.5 72.5,-73.5\" stroke=\"black\"/>\n",
       "<text font-family=\"Times New Roman,serif\" font-size=\"14.00\" text-anchor=\"middle\" x=\"121.5\" y=\"-87.8\">lstm_2: LSTM</text>\n",
       "</g>\n",
       "<!-- 2166427113512&#45;&gt;2166427115416 -->\n",
       "<g class=\"edge\" id=\"edge7\"><title>2166427113512-&gt;2166427115416</title>\n",
       "<path d=\"M121.5,-146.313C121.5,-138.289 121.5,-128.547 121.5,-119.569\" fill=\"none\" stroke=\"black\"/>\n",
       "<polygon fill=\"black\" points=\"125,-119.529 121.5,-109.529 118,-119.529 125,-119.529\" stroke=\"black\"/>\n",
       "</g>\n",
       "<!-- 2166435469184 -->\n",
       "<g class=\"node\" id=\"node8\"><title>2166435469184</title>\n",
       "<polygon fill=\"none\" points=\"69.5,-0.5 69.5,-36.5 173.5,-36.5 173.5,-0.5 69.5,-0.5\" stroke=\"black\"/>\n",
       "<text font-family=\"Times New Roman,serif\" font-size=\"14.00\" text-anchor=\"middle\" x=\"121.5\" y=\"-14.8\">dense_6: Dense</text>\n",
       "</g>\n",
       "<!-- 2166427115416&#45;&gt;2166435469184 -->\n",
       "<g class=\"edge\" id=\"edge8\"><title>2166427115416-&gt;2166435469184</title>\n",
       "<path d=\"M121.5,-73.3129C121.5,-65.2895 121.5,-55.5475 121.5,-46.5691\" fill=\"none\" stroke=\"black\"/>\n",
       "<polygon fill=\"black\" points=\"125,-46.5288 121.5,-36.5288 118,-46.5289 125,-46.5288\" stroke=\"black\"/>\n",
       "</g>\n",
       "</g>\n",
       "</svg>"
      ],
      "text/plain": [
       "<IPython.core.display.SVG object>"
      ]
     },
     "execution_count": 73,
     "metadata": {},
     "output_type": "execute_result"
    }
   ],
   "source": [
    "SVG(model_to_dot(model).create(prog='dot', format='svg'))"
   ]
  },
  {
   "cell_type": "code",
   "execution_count": 74,
   "metadata": {
    "scrolled": true
   },
   "outputs": [
    {
     "name": "stdout",
     "output_type": "stream",
     "text": [
      "____________________________________________________________________________________________________\n",
      "Layer (type)                     Output Shape          Param #     Connected to                     \n",
      "====================================================================================================\n",
      "input_3 (InputLayer)             (None, 8, 8)          0                                            \n",
      "____________________________________________________________________________________________________\n",
      "permute_2 (Permute)              (None, 8, 8)          0           input_3[0][0]                    \n",
      "____________________________________________________________________________________________________\n",
      "reshape_2 (Reshape)              (None, 8, 8)          0           permute_2[0][0]                  \n",
      "____________________________________________________________________________________________________\n",
      "dense_5 (Dense)                  (None, 8, 8)          72          reshape_2[0][0]                  \n",
      "____________________________________________________________________________________________________\n",
      "attention_vec (Permute)          (None, 8, 8)          0           dense_5[0][0]                    \n",
      "____________________________________________________________________________________________________\n",
      "attention_mul (Multiply)         (None, 8, 8)          0           input_3[0][0]                    \n",
      "                                                                   attention_vec[0][0]              \n",
      "____________________________________________________________________________________________________\n",
      "lstm_2 (LSTM)                    (None, 32)            5248        attention_mul[0][0]              \n",
      "____________________________________________________________________________________________________\n",
      "dense_6 (Dense)                  (None, 10)            330         lstm_2[0][0]                     \n",
      "====================================================================================================\n",
      "Total params: 5,650\n",
      "Trainable params: 5,650\n",
      "Non-trainable params: 0\n",
      "____________________________________________________________________________________________________\n"
     ]
    }
   ],
   "source": [
    "model.summary()"
   ]
  },
  {
   "cell_type": "code",
   "execution_count": 75,
   "metadata": {
    "scrolled": true
   },
   "outputs": [
    {
     "data": {
      "text/plain": [
       "<keras.callbacks.History at 0x1f86976bcc0>"
      ]
     },
     "execution_count": 75,
     "metadata": {},
     "output_type": "execute_result"
    }
   ],
   "source": [
    "model.fit([X_train], y_train, epochs = 100, batch_size = 64, validation_split = 0.3, verbose = 0)"
   ]
  },
  {
   "cell_type": "code",
   "execution_count": 78,
   "metadata": {},
   "outputs": [
    {
     "name": "stdout",
     "output_type": "stream",
     "text": [
      "----- activations -----\n",
      "(1, 8, 8)\n"
     ]
    }
   ],
   "source": [
    "attention_vector = get_activations(model, [X_train[0]], print_shape_only=True, layer_name = 'attention_vec')[0].reshape(8,8)"
   ]
  },
  {
   "cell_type": "code",
   "execution_count": 79,
   "metadata": {},
   "outputs": [
    {
     "data": {
      "image/png": "[encoded data removed]",
      "text/plain": [
       "<matplotlib.figure.Figure at 0x1f86973df98>"
      ]
     },
     "metadata": {},
     "output_type": "display_data"
    }
   ],
   "source": [
    "plt.imshow(attention_vector)\n",
    "plt.show()"
   ]
  }
 ],
 "metadata": {
  "kernelspec": {
   "display_name": "Python 3",
   "language": "python",
   "name": "python3"
  },
  "language_info": {
   "codemirror_mode": {
    "name": "ipython",
    "version": 3
   },
   "file_extension": ".py",
   "mimetype": "text/x-python",
   "name": "python",
   "nbconvert_exporter": "python",
   "pygments_lexer": "ipython3",
   "version": "3.6.1"
  }
 },
 "nbformat": 4,
 "nbformat_minor": 2
}
