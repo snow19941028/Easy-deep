{
 "cells": [
  {
   "cell_type": "code",
   "execution_count": null,
   "metadata": {
    "collapsed": true
   },
   "outputs": [],
   "source": []
  },
  {
   "cell_type": "code",
   "execution_count": 1,
   "metadata": {
    "collapsed": true
   },
   "outputs": [],
   "source": [
    "def SimpleSeq2Seq(output_dim, output_length, hidden_dim=None, input_shape=None,\n",
    "                  batch_size=None, batch_input_shape=None, input_dim=None,\n",
    "                  input_length=None, depth=1, dropout=0.0, unroll=False,\n",
    "                  stateful=False):\n",
    "\n",
    "    '''\n",
    "    Simple model for sequence to sequence learning.\n",
    "    The encoder encodes the input sequence to vector (called context vector)\n",
    "    The decoder decodes the context vector in to a sequence of vectors.\n",
    "    There is no one on one relation between the input and output sequence\n",
    "    elements. The input sequence and output sequence may differ in length.\n",
    "    Arguments:\n",
    "    output_dim : Required output dimension.\n",
    "    hidden_dim : The dimension of the internal representations of the model.\n",
    "    output_length : Length of the required output sequence.\n",
    "    depth : Used to create a deep Seq2seq model. For example, if depth = 3,\n",
    "            there will be 3 LSTMs on the enoding side and 3 LSTMs on the\n",
    "            decoding side. You can also specify depth as a tuple. For example,\n",
    "            if depth = (4, 5), 4 LSTMs will be added to the encoding side and\n",
    "            5 LSTMs will be added to the decoding side.\n",
    "    dropout : Dropout probability in between layers.\n",
    "    '''\n",
    "\n",
    "    if isinstance(depth, int):\n",
    "        depth = (depth, depth)\n",
    "    if batch_input_shape:\n",
    "        shape = batch_input_shape\n",
    "    elif input_shape:\n",
    "        shape = (batch_size,) + input_shape\n",
    "    elif input_dim:\n",
    "        if input_length:\n",
    "            shape = (batch_size,) + (input_length,) + (input_dim,)\n",
    "        else:\n",
    "            shape = (batch_size,) + (None,) + (input_dim,)\n",
    "    else:\n",
    "        # TODO Proper error message\n",
    "        raise TypeError\n",
    "    if hidden_dim is None:\n",
    "        hidden_dim = output_dim\n",
    "    encoder = RecurrentSequential(unroll=unroll, stateful=stateful)\n",
    "    encoder.add(LSTMCell(hidden_dim, batch_input_shape=(shape[0], shape[-1])))\n",
    "\n",
    "    for _ in range(1, depth[0]):\n",
    "        encoder.add(Dropout(dropout))\n",
    "        encoder.add(LSTMCell(hidden_dim))\n",
    "\n",
    "    decoder = RecurrentSequential(unroll=unroll, stateful=stateful,\n",
    "                                  decode=True, output_length=output_length)\n",
    "    decoder.add(Dropout(dropout, batch_input_shape=(shape[0], hidden_dim)))\n",
    "\n",
    "    if depth[1] == 1:\n",
    "        decoder.add(LSTMCell(output_dim))\n",
    "    else:\n",
    "        decoder.add(LSTMCell(hidden_dim))\n",
    "        for _ in range(depth[1] - 2):\n",
    "            decoder.add(Dropout(dropout))\n",
    "            decoder.add(LSTMCell(hidden_dim))\n",
    "    decoder.add(Dropout(dropout))\n",
    "    decoder.add(LSTMCell(output_dim))\n",
    "\n",
    "    _input = Input(batch_shape=shape)\n",
    "    x = encoder(_input)\n",
    "    output = decoder(x)\n",
    "    return Model(_input, output)"
   ]
  },
  {
   "cell_type": "code",
   "execution_count": 3,
   "metadata": {},
   "outputs": [
    {
     "ename": "TypeError",
     "evalue": "",
     "output_type": "error",
     "traceback": [
      "\u001b[1;31m---------------------------------------------------------------------------\u001b[0m",
      "\u001b[1;31mTypeError\u001b[0m                                 Traceback (most recent call last)",
      "\u001b[1;32m<ipython-input-3-f02349e83be9>\u001b[0m in \u001b[0;36m<module>\u001b[1;34m()\u001b[0m\n\u001b[1;32m----> 1\u001b[1;33m \u001b[0mmodel\u001b[0m \u001b[1;33m=\u001b[0m \u001b[0mSimpleSeq2Seq\u001b[0m\u001b[1;33m(\u001b[0m\u001b[1;36m2\u001b[0m\u001b[1;33m,\u001b[0m\u001b[1;36m5\u001b[0m\u001b[1;33m)\u001b[0m\u001b[1;33m\u001b[0m\u001b[0m\n\u001b[0m",
      "\u001b[1;32m<ipython-input-1-b1861315c719>\u001b[0m in \u001b[0;36mSimpleSeq2Seq\u001b[1;34m(output_dim, output_length, hidden_dim, input_shape, batch_size, batch_input_shape, input_dim, input_length, depth, dropout, unroll, stateful)\u001b[0m\n\u001b[0;32m     35\u001b[0m     \u001b[1;32melse\u001b[0m\u001b[1;33m:\u001b[0m\u001b[1;33m\u001b[0m\u001b[0m\n\u001b[0;32m     36\u001b[0m         \u001b[1;31m# TODO Proper error message\u001b[0m\u001b[1;33m\u001b[0m\u001b[1;33m\u001b[0m\u001b[0m\n\u001b[1;32m---> 37\u001b[1;33m         \u001b[1;32mraise\u001b[0m \u001b[0mTypeError\u001b[0m\u001b[1;33m\u001b[0m\u001b[0m\n\u001b[0m\u001b[0;32m     38\u001b[0m     \u001b[1;32mif\u001b[0m \u001b[0mhidden_dim\u001b[0m \u001b[1;32mis\u001b[0m \u001b[1;32mNone\u001b[0m\u001b[1;33m:\u001b[0m\u001b[1;33m\u001b[0m\u001b[0m\n\u001b[0;32m     39\u001b[0m         \u001b[0mhidden_dim\u001b[0m \u001b[1;33m=\u001b[0m \u001b[0moutput_dim\u001b[0m\u001b[1;33m\u001b[0m\u001b[0m\n",
      "\u001b[1;31mTypeError\u001b[0m: "
     ]
    }
   ],
   "source": [
    "model = SimpleSeq2Seq(2,5)"
   ]
  },
  {
   "cell_type": "code",
   "execution_count": null,
   "metadata": {
    "collapsed": true
   },
   "outputs": [],
   "source": []
  }
 ],
 "metadata": {
  "kernelspec": {
   "display_name": "Python 3",
   "language": "python",
   "name": "python3"
  },
  "language_info": {
   "codemirror_mode": {
    "name": "ipython",
    "version": 3
   },
   "file_extension": ".py",
   "mimetype": "text/x-python",
   "name": "python",
   "nbconvert_exporter": "python",
   "pygments_lexer": "ipython3",
   "version": "3.6.1"
  }
 },
 "nbformat": 4,
 "nbformat_minor": 2
}
