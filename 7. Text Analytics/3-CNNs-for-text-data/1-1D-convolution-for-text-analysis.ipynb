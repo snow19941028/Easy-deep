{
 "cells": [
  {
   "cell_type": "markdown",
   "metadata": {},
   "source": [
    "# 1-D convolution for text analytics\n",
    "- It is commonly considered that RNNs are for text analysis and CNNs are for image analysis. However, It could be the other way around as well.\n",
    "- With help of features such as local connectivity, sliding filters, weight sharing, etc., CNNs can be attractive for text analysis as.\n",
    "- Keras has ```Conv1D``` layer, which is similar to ```Conv2D```\n",
    "    - ```Conv1D``` is attractive substitute for recurrent models in learning context-based data"
   ]
  },
  {
   "cell_type": "code",
   "execution_count": 31,
   "metadata": {
    "collapsed": true
   },
   "outputs": [],
   "source": [
    "from keras.models import Sequential\n",
    "from keras.layers import *\n",
    "from keras.datasets import reuters\n",
    "from keras.preprocessing import sequence\n",
    "from keras.utils import to_categorical"
   ]
  },
  {
   "cell_type": "markdown",
   "metadata": {},
   "source": [
    "## ```Conv1D``` layer\n",
    "- Temporal convolution - \"creates a convolution kernel that is convolved with the layer input over a single spatial (or temporal) dimension to produce a tensor of outputs\"\n",
    "    - input: 3D tensor of shape ```(batch_size, steps, input_dim)```\n",
    "    - output: 3D tensor of shape ```(batch_size, new_steps, filters)```"
   ]
  },
  {
   "cell_type": "code",
   "execution_count": 32,
   "metadata": {},
   "outputs": [
    {
     "name": "stdout",
     "output_type": "stream",
     "text": [
      "(?, 8, 5)\n"
     ]
    }
   ],
   "source": [
    "# setting num_filters = 5 and kernel_size = 3\n",
    "# 0-10 timesteps & kernel_size = 3 => 8 new steps\n",
    "conv1d = Conv1D(5, 3, padding = 'valid')(Input(shape = (10, 30)))\n",
    "print(conv1d.shape)"
   ]
  },
  {
   "cell_type": "code",
   "execution_count": 33,
   "metadata": {},
   "outputs": [
    {
     "name": "stdout",
     "output_type": "stream",
     "text": [
      "(?, 10, 5)\n"
     ]
    }
   ],
   "source": [
    "# when padding = 'same'\n",
    "conv1d = Conv1D(5, 3, padding = 'same')(Input(shape = (10, 30)))\n",
    "print(conv1d.shape)"
   ]
  },
  {
   "cell_type": "code",
   "execution_count": 34,
   "metadata": {},
   "outputs": [
    {
     "name": "stdout",
     "output_type": "stream",
     "text": [
      "(?, 3, 2, 5)\n",
      "(?, 5, 4, 5)\n"
     ]
    }
   ],
   "source": [
    "# comparison to Conv2D layer\n",
    "conv2d = Conv2D(5, (3,3), padding = 'valid')(Input(shape = (5, 4, 3)))\n",
    "print(conv2d.shape)\n",
    "conv2d = Conv2D(5, (3,3), padding = 'same')(Input(shape = (5, 4, 3)))\n",
    "print(conv2d.shape)"
   ]
  },
  {
   "cell_type": "markdown",
   "metadata": {},
   "source": [
    "## Using ```Conv1D``` layer in Network"
   ]
  },
  {
   "cell_type": "code",
   "execution_count": 35,
   "metadata": {
    "collapsed": true
   },
   "outputs": [],
   "source": [
    "# parameters to import dataset\n",
    "def get_reuters(num_words = 3000, maxlen = 50):    \n",
    "    (X_train, y_train), (X_test, y_test) = reuters.load_data(num_words = num_words, maxlen = maxlen)\n",
    "\n",
    "    X_train = sequence.pad_sequences(X_train, maxlen = maxlen, padding = 'post')\n",
    "    X_test = sequence.pad_sequences(X_test, maxlen = maxlen, padding = 'post')\n",
    "    y_train = to_categorical(y_train, num_classes = 46)\n",
    "    y_test = to_categorical(y_test, num_classes = 46)\n",
    "\n",
    "    print(X_train.shape)\n",
    "    print(X_test.shape)\n",
    "    print(y_train.shape)\n",
    "    print(y_test.shape)\n",
    "    \n",
    "    return X_train, X_test, y_train, y_test"
   ]
  },
  {
   "cell_type": "code",
   "execution_count": 36,
   "metadata": {
    "collapsed": true
   },
   "outputs": [],
   "source": [
    "num_words = 3000\n",
    "max_len = 50\n",
    "embed_size = 100"
   ]
  },
  {
   "cell_type": "code",
   "execution_count": 37,
   "metadata": {},
   "outputs": [
    {
     "name": "stdout",
     "output_type": "stream",
     "text": [
      "(1595, 50)\n",
      "(399, 50)\n",
      "(1595, 46)\n",
      "(399, 46)\n"
     ]
    }
   ],
   "source": [
    "X_train, X_test, y_train, y_test = get_reuters(num_words, max_len)"
   ]
  },
  {
   "cell_type": "code",
   "execution_count": 38,
   "metadata": {
    "collapsed": true
   },
   "outputs": [],
   "source": [
    "def one_dim_convolution_model(num_words, embed_size, input_length):\n",
    "    model = Sequential()\n",
    "    model.add(Embedding(num_words, embed_size, input_length = max_len))\n",
    "    model.add(Conv1D(50, 10, activation = 'relu'))\n",
    "    model.add(MaxPooling1D(10))\n",
    "    model.add(GlobalMaxPooling1D())\n",
    "    model.add(Dense(46, activation = 'softmax'))\n",
    "    model.compile(optimizer = 'adam', loss = 'categorical_crossentropy', metrics = ['acc'])\n",
    "    return model"
   ]
  },
  {
   "cell_type": "code",
   "execution_count": 39,
   "metadata": {
    "scrolled": true
   },
   "outputs": [
    {
     "name": "stdout",
     "output_type": "stream",
     "text": [
      "_________________________________________________________________\n",
      "Layer (type)                 Output Shape              Param #   \n",
      "=================================================================\n",
      "embedding_3 (Embedding)      (None, 50, 100)           300000    \n",
      "_________________________________________________________________\n",
      "conv1d_12 (Conv1D)           (None, 41, 50)            50050     \n",
      "_________________________________________________________________\n",
      "max_pooling1d_3 (MaxPooling1 (None, 4, 50)             0         \n",
      "_________________________________________________________________\n",
      "global_max_pooling1d_3 (Glob (None, 50)                0         \n",
      "_________________________________________________________________\n",
      "dense_3 (Dense)              (None, 46)                2346      \n",
      "=================================================================\n",
      "Total params: 352,396\n",
      "Trainable params: 352,396\n",
      "Non-trainable params: 0\n",
      "_________________________________________________________________\n"
     ]
    }
   ],
   "source": [
    "model = one_dim_convolution_model(num_words, embed_size, max_len)\n",
    "model.summary()"
   ]
  },
  {
   "cell_type": "code",
   "execution_count": null,
   "metadata": {
    "collapsed": true
   },
   "outputs": [],
   "source": [
    "history = model.fit(X_train, y_train, epochs = 100, batch_size = 100)"
   ]
  },
  {
   "cell_type": "code",
   "execution_count": 41,
   "metadata": {},
   "outputs": [
    {
     "name": "stdout",
     "output_type": "stream",
     "text": [
      "\r",
      " 32/399 [=>............................] - ETA: 0s"
     ]
    }
   ],
   "source": [
    "result = model.evaluate(X_test, y_test)"
   ]
  },
  {
   "cell_type": "code",
   "execution_count": 42,
   "metadata": {},
   "outputs": [
    {
     "name": "stdout",
     "output_type": "stream",
     "text": [
      "Test Accuracy:  0.894736842553\n"
     ]
    }
   ],
   "source": [
    "print('Test Accuracy: ', result[1])"
   ]
  }
 ],
 "metadata": {
  "kernelspec": {
   "display_name": "Python 3",
   "language": "python",
   "name": "python3"
  },
  "language_info": {
   "codemirror_mode": {
    "name": "ipython",
    "version": 3
   },
   "file_extension": ".py",
   "mimetype": "text/x-python",
   "name": "python",
   "nbconvert_exporter": "python",
   "pygments_lexer": "ipython3",
   "version": "3.6.1"
  }
 },
 "nbformat": 4,
 "nbformat_minor": 2
}
